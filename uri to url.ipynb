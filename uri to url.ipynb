{
 "cells": [
  {
   "cell_type": "code",
   "execution_count": 19,
   "metadata": {},
   "outputs": [
    {
     "name": "stdout",
     "output_type": "stream",
     "text": [
      "Converted URL: aHR0cHM=://aWJiLmNvL3BSSDhIWnQ=\n"
     ]
    }
   ],
   "source": [
    "import urllib.parse\n",
    "import base64\n",
    "\n",
    "def uri_to_url(uri):\n",
    "    \n",
    "    parsed_uri = urllib.parse.urlparse(uri)\n",
    "\n",
    "   \n",
    "    encoded_scheme = base64.urlsafe_b64encode(parsed_uri.scheme.encode()).decode()\n",
    "    encoded_netloc = base64.urlsafe_b64encode(parsed_uri.netloc.encode()).decode()\n",
    "    encoded_path = base64.urlsafe_b64encode(parsed_uri.path.encode()).decode()\n",
    "    encoded_query = base64.urlsafe_b64encode(parsed_uri.query.encode()).decode()\n",
    "    encoded_fragment = base64.urlsafe_b64encode(parsed_uri.fragment.encode()).decode()\n",
    "\n",
    "\n",
    "    url = f\"{encoded_scheme}://{encoded_netloc}{encoded_path}\"\n",
    "\n",
    "    if encoded_query:\n",
    "        url += f\"?{encoded_query}\"\n",
    "\n",
    "    if encoded_fragment:\n",
    "        url += f\"#{encoded_fragment}\"\n",
    "\n",
    "    return url\n",
    "\n",
    "uri = \"https://ibb.co/pRH8HZt\"\n",
    "url = uri_to_url(uri)\n",
    "print(\"Converted URL:\", url)\n",
    "\n",
    "\n",
    "\n"
   ]
  }
 ],
 "metadata": {
  "kernelspec": {
   "display_name": "Python 3",
   "language": "python",
   "name": "python3"
  },
  "language_info": {
   "codemirror_mode": {
    "name": "ipython",
    "version": 3
   },
   "file_extension": ".py",
   "mimetype": "text/x-python",
   "name": "python",
   "nbconvert_exporter": "python",
   "pygments_lexer": "ipython3",
   "version": "3.11.4"
  },
  "orig_nbformat": 4
 },
 "nbformat": 4,
 "nbformat_minor": 2
}
